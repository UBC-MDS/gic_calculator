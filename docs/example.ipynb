{
    "cells": [
        {
            "cell_type": "markdown",
            "metadata": {},
            "source": [
                "# Example Usage\n",
                "\n",
                "The tutorial below provides an example of how the `gic_calculator` can be employed in a practical use case.  "
            ]
        },
        {
            "cell_type": "markdown",
            "metadata": {},
            "source": [
                "## Saving for College (and Pizza!) With GICs\n",
                "\n",
                "In the financial industry, Guaranteed Investment Certificates (GICs) are an excellent way to invest and save for a goal without the risk or volatility associated with stock purchases. As such, they are a great way for students to save for college. In this tutorial, we will work through an example outlining the case where a student, Eva, has  &#36;5000.00 in principal which she is looking to invest in either Bank A (default GIC rates) or Bank B (competitor with custom GIC rates). Eva wants to know with which GIC rates and term length she will be able to earn the highest return on her investment (hopefully she will be able to pay tuition AND buy food while in school 🍕!). "
            ]
        },
        {
            "cell_type": "markdown",
            "metadata": {},
            "source": [
                "### Interest Calculator\n",
                "\n",
                "First, Eva wants to know how much interest she will be able to earn on each investment based on a fixed term length of 1 versus 3 years at Bank A’s default GIC rates. In order to do this, she runs the following code to run the `interest_calc` function from her command line:"
            ]
        },
        {
            "cell_type": "code",
            "execution_count": null,
            "metadata": {},
            "outputs": [
                {
                    "data": {
                        "text/plain": [
                            "(4.9, 245.0)"
                        ]
                    },
                    "execution_count": 1,
                    "metadata": {},
                    "output_type": "execute_result"
                }
            ],
            "source": [
                "from gic_calculator.interest_calculator import interest_calc\n",
                "interest_calc(5000, 1)"
            ]
        },
        {
            "cell_type": "markdown",
            "metadata": {},
            "source": [
                "This returns two values: 4.9 and 245.00. This refers to a GIC rate of 4.9% and an interest accrual of &#36;245.00, respectively, after a term length of 1 year. Next, Eva calculates the interest accrued after 3 years with the default GIC rate. "
            ]
        },
        {
            "cell_type": "code",
            "execution_count": null,
            "metadata": {},
            "outputs": [
                {
                    "data": {
                        "text/plain": [
                            "(4.0, 624.32)"
                        ]
                    },
                    "execution_count": 2,
                    "metadata": {},
                    "output_type": "execute_result"
                }
            ],
            "source": [
                "interest_calc(5000, 3)"
            ]
        },
        {
            "cell_type": "markdown",
            "metadata": {},
            "source": [
                "This returns the values 4.0 and 624.32. This refers to a GIC rate of 4.0% and an interest accrual of &#36;624.32, respectively. Wowza, what a difference! 🤑\n",
                "\n",
                "Eva is shrewd with her money, though, and wants to compare the rates at a different bank just to check if she can get a better deal (let’s see if she can squeeze a few more bucks out of this investment)! In order to do this, she’ll need to enter Bank B’s interest rates manually in the interest_calc function. Bank B is offering 5.5% GIC rates for a 1 year fixed term, and 3.5% for a 3 year term. She completes this in the below step:"
            ]
        },
        {
            "cell_type": "code",
            "execution_count": null,
            "metadata": {},
            "outputs": [
                {
                    "data": {
                        "text/plain": [
                            "(5.5, 275.0)"
                        ]
                    },
                    "execution_count": 3,
                    "metadata": {},
                    "output_type": "execute_result"
                }
            ],
            "source": [
                "interest_calc(5000, 1, 5.5)"
            ]
        },
        {
            "cell_type": "markdown",
            "metadata": {},
            "source": [
                "This returns the values 5.5 and 275.00. This refers to a GIC rate of 5.5% and an interest accrual of `&#36;275.00`, respectively. Hmm…this is `&#36;30` more than Bank A. Eva knew that her shrewdness would pay off! 🕵️‍♀️ \n",
                "\n",
                "However, the 3 year term at Bank A is still better overall. Eva decides to check the return for Bank B on a 3 year term, to see if their offering is better. The code she ran is as follows:"
            ]
        },
        {
            "cell_type": "code",
            "execution_count": null,
            "metadata": {},
            "outputs": [
                {
                    "data": {
                        "text/plain": [
                            "(3.5, 543.59)"
                        ]
                    },
                    "execution_count": 4,
                    "metadata": {},
                    "output_type": "execute_result"
                }
            ],
            "source": [
                "interest_calc(5000, 3, 3.5)"
            ]
        },
        {
            "cell_type": "markdown",
            "metadata": {},
            "source": [
                "This returns the values 3.5 and 543.59. This refers to a GIC rate of 3.5% and an interest accrual of &#36;543.59, respectively. Hmm…this is about &#36;80.73 less than Bank A’s return after 3 years. Oh well, it’s always good to double check. 🤷‍♀️ At least Eva knows that she’s getting the best return with Bank A! 💸"
            ]
        },
        {
            "cell_type": "markdown",
            "metadata": {},
            "source": [
                "### GIC Difference\n",
                "\n",
                "Eva now has the interest return on her &#36;5000 principal for 1 year and 3 year terms with Bank A and Bank B, but she still wonders what the difference in total return is between term lengths and varied GIC rates for each bank. The `calculate_gic_difference` function is here to provide this information for Eva! \n",
                "\n",
                "In order to calculate the difference in total return for Bank A with default GIC rates, Eva now runs the following code from her command line:"
            ]
        },
        {
            "cell_type": "code",
            "execution_count": null,
            "metadata": {},
            "outputs": [
                {
                    "data": {
                        "text/plain": [
                            "379.32"
                        ]
                    },
                    "execution_count": 5,
                    "metadata": {},
                    "output_type": "execute_result"
                }
            ],
            "source": [
                "from gic_calculator.gic_difference import calculate_gic_difference\n",
                "calculate_gic_difference(1, 3, 5000)"
            ]
        },
        {
            "cell_type": "markdown",
            "metadata": {},
            "source": [
                "This returns the value 379.32, which corresponds to a difference in total return of &#36;379.32 (principal plus interest accrual) between the 1 and 3 year terms at Bank A. Next Eva will calculate the same for Bank B. Remember that Bank B has different interest rates for each term, so Eva enters these in manually, as follows: "
            ]
        },
        {
            "cell_type": "code",
            "execution_count": null,
            "metadata": {},
            "outputs": [
                {
                    "data": {
                        "text/plain": [
                            "268.59"
                        ]
                    },
                    "execution_count": 6,
                    "metadata": {},
                    "output_type": "execute_result"
                }
            ],
            "source": [
                "calculate_gic_difference(1, 3, 5000, 5.5, 3.5)"
            ]
        },
        {
            "cell_type": "markdown",
            "metadata": {},
            "source": [
                "This returns the value 268.59, which corresponds to a difference in total return of &#36;268.59 between the 1 and 3 year terms at Bank B for interest rates of 5.5% and 3.5%, respectively."
            ]
        },
        {
            "cell_type": "markdown",
            "metadata": {},
            "source": [
                "### GIC Plotting\n",
                "\n",
                "Eva didn't realize that there would be such a big difference in return amounts between the two investments until she calculated it using `calculate_gic_difference`! 🤑\n",
                "\n",
                "But HOLD ON! What are the interests she would have earned again??? 😳\n",
                "\n",
                "Apart from the numbers, it's always nice to have a chart to illustrate the difference between the two investments. Then she can easily see the difference between the investment options and make a smart decision. 😎\n",
                "\n",
                "To create the chart comparing the GIC investment options at Bank A, Eva runs the the following code:"
            ]
        },
        {
            "cell_type": "code",
            "execution_count": null,
            "metadata": {},
            "outputs": [
                {
                    "data": {
                        "text/html": [
                            "\n",
                            "<style>\n",
                            "  #altair-viz-5c86a0b7e998475ab1f6a588b76ad099.vega-embed {\n",
                            "    width: 100%;\n",
                            "    display: flex;\n",
                            "  }\n",
                            "\n",
                            "  #altair-viz-5c86a0b7e998475ab1f6a588b76ad099.vega-embed details,\n",
                            "  #altair-viz-5c86a0b7e998475ab1f6a588b76ad099.vega-embed details summary {\n",
                            "    position: relative;\n",
                            "  }\n",
                            "</style>\n",
                            "<div id=\"altair-viz-5c86a0b7e998475ab1f6a588b76ad099\"></div>\n",
                            "<script type=\"text/javascript\">\n",
                            "  var VEGA_DEBUG = (typeof VEGA_DEBUG == \"undefined\") ? {} : VEGA_DEBUG;\n",
                            "  (function(spec, embedOpt){\n",
                            "    let outputDiv = document.currentScript.previousElementSibling;\n",
                            "    if (outputDiv.id !== \"altair-viz-5c86a0b7e998475ab1f6a588b76ad099\") {\n",
                            "      outputDiv = document.getElementById(\"altair-viz-5c86a0b7e998475ab1f6a588b76ad099\");\n",
                            "    }\n",
                            "    const paths = {\n",
                            "      \"vega\": \"https://cdn.jsdelivr.net/npm/vega@5?noext\",\n",
                            "      \"vega-lib\": \"https://cdn.jsdelivr.net/npm/vega-lib?noext\",\n",
                            "      \"vega-lite\": \"https://cdn.jsdelivr.net/npm/vega-lite@5.16.3?noext\",\n",
                            "      \"vega-embed\": \"https://cdn.jsdelivr.net/npm/vega-embed@6?noext\",\n",
                            "    };\n",
                            "\n",
                            "    function maybeLoadScript(lib, version) {\n",
                            "      var key = `${lib.replace(\"-\", \"\")}_version`;\n",
                            "      return (VEGA_DEBUG[key] == version) ?\n",
                            "        Promise.resolve(paths[lib]) :\n",
                            "        new Promise(function(resolve, reject) {\n",
                            "          var s = document.createElement('script');\n",
                            "          document.getElementsByTagName(\"head\")[0].appendChild(s);\n",
                            "          s.async = true;\n",
                            "          s.onload = () => {\n",
                            "            VEGA_DEBUG[key] = version;\n",
                            "            return resolve(paths[lib]);\n",
                            "          };\n",
                            "          s.onerror = () => reject(`Error loading script: ${paths[lib]}`);\n",
                            "          s.src = paths[lib];\n",
                            "        });\n",
                            "    }\n",
                            "\n",
                            "    function showError(err) {\n",
                            "      outputDiv.innerHTML = `<div class=\"error\" style=\"color:red;\">${err}</div>`;\n",
                            "      throw err;\n",
                            "    }\n",
                            "\n",
                            "    function displayChart(vegaEmbed) {\n",
                            "      vegaEmbed(outputDiv, spec, embedOpt)\n",
                            "        .catch(err => showError(`Javascript Error: ${err.message}<br>This usually means there's a typo in your chart specification. See the javascript console for the full traceback.`));\n",
                            "    }\n",
                            "\n",
                            "    if(typeof define === \"function\" && define.amd) {\n",
                            "      requirejs.config({paths});\n",
                            "      require([\"vega-embed\"], displayChart, err => showError(`Error loading script: ${err.message}`));\n",
                            "    } else {\n",
                            "      maybeLoadScript(\"vega\", \"5\")\n",
                            "        .then(() => maybeLoadScript(\"vega-lite\", \"5.16.3\"))\n",
                            "        .then(() => maybeLoadScript(\"vega-embed\", \"6\"))\n",
                            "        .catch(showError)\n",
                            "        .then(() => displayChart(vegaEmbed));\n",
                            "    }\n",
                            "  })({\"config\": {\"view\": {\"continuousWidth\": 300, \"continuousHeight\": 300}, \"scale\": {\"bandPaddingInner\": 0.5}}, \"data\": {\"name\": \"data-45474556d2963b90e2502becc5c105d3\"}, \"mark\": {\"type\": \"bar\"}, \"encoding\": {\"color\": {\"value\": \"orange\"}, \"x\": {\"field\": \"term_length\", \"title\": \"GIC Term\", \"type\": \"nominal\"}, \"y\": {\"axis\": {\"format\": \"$~s\"}, \"field\": \"interest\", \"title\": \"Interest Earned\", \"type\": \"quantitative\"}}, \"title\": {\"text\": [\"In 1 year, at an interest rate of 4.90%, you'll have earned $245.00 in interest.\", \"In 3 years, at an interest rate of 4.00%, you'll have earned $624.32 in interest.\"]}, \"width\": {\"step\": 200}, \"$schema\": \"https://vega.github.io/schema/vega-lite/v5.16.3.json\", \"datasets\": {\"data-45474556d2963b90e2502becc5c105d3\": [{\"term_length\": \"1) 1 year\", \"interest\": 245.0}, {\"term_length\": \"2) 3 years\", \"interest\": 624.32}]}}, {\"mode\": \"vega-lite\"});\n",
                            "</script>"
                        ],
                        "text/plain": [
                            "alt.Chart(...)"
                        ]
                    },
                    "execution_count": 7,
                    "metadata": {},
                    "output_type": "execute_result"
                }
            ],
            "source": [
                "from gic_calculator.gic_plotting import gic_plotting\n",
                "gic_plotting(5000, [1, 3])"
            ]
        },
        {
            "cell_type": "markdown",
            "metadata": {},
            "source": [
                "Wow! Now she knows the investment after 3 years seems to be way better after looking at the chart. The interest she would earn is almost 2.5 times the interest from the investment after 1 year! She is going to be rich!💰\n",
                "\n",
                "Apart from that, Eva has heard of a great rate from a friend of a friend - a 1-year investment with an GIC rate of 4% (this is the best her friend has ever seen!). Eva wants to know which is better, the rate from Bank A, or the hot tip from her friend! \n",
                "\n",
                "Eva decides to plot a chart of both Bank A's GIC rate and the friend's rate:"
            ]
        },
        {
            "cell_type": "code",
            "execution_count": null,
            "metadata": {},
            "outputs": [
                {
                    "data": {
                        "text/html": [
                            "\n",
                            "<style>\n",
                            "  #altair-viz-5fc779dbac5d4a6c80a3d1cc7bd798ce.vega-embed {\n",
                            "    width: 100%;\n",
                            "    display: flex;\n",
                            "  }\n",
                            "\n",
                            "  #altair-viz-5fc779dbac5d4a6c80a3d1cc7bd798ce.vega-embed details,\n",
                            "  #altair-viz-5fc779dbac5d4a6c80a3d1cc7bd798ce.vega-embed details summary {\n",
                            "    position: relative;\n",
                            "  }\n",
                            "</style>\n",
                            "<div id=\"altair-viz-5fc779dbac5d4a6c80a3d1cc7bd798ce\"></div>\n",
                            "<script type=\"text/javascript\">\n",
                            "  var VEGA_DEBUG = (typeof VEGA_DEBUG == \"undefined\") ? {} : VEGA_DEBUG;\n",
                            "  (function(spec, embedOpt){\n",
                            "    let outputDiv = document.currentScript.previousElementSibling;\n",
                            "    if (outputDiv.id !== \"altair-viz-5fc779dbac5d4a6c80a3d1cc7bd798ce\") {\n",
                            "      outputDiv = document.getElementById(\"altair-viz-5fc779dbac5d4a6c80a3d1cc7bd798ce\");\n",
                            "    }\n",
                            "    const paths = {\n",
                            "      \"vega\": \"https://cdn.jsdelivr.net/npm/vega@5?noext\",\n",
                            "      \"vega-lib\": \"https://cdn.jsdelivr.net/npm/vega-lib?noext\",\n",
                            "      \"vega-lite\": \"https://cdn.jsdelivr.net/npm/vega-lite@5.16.3?noext\",\n",
                            "      \"vega-embed\": \"https://cdn.jsdelivr.net/npm/vega-embed@6?noext\",\n",
                            "    };\n",
                            "\n",
                            "    function maybeLoadScript(lib, version) {\n",
                            "      var key = `${lib.replace(\"-\", \"\")}_version`;\n",
                            "      return (VEGA_DEBUG[key] == version) ?\n",
                            "        Promise.resolve(paths[lib]) :\n",
                            "        new Promise(function(resolve, reject) {\n",
                            "          var s = document.createElement('script');\n",
                            "          document.getElementsByTagName(\"head\")[0].appendChild(s);\n",
                            "          s.async = true;\n",
                            "          s.onload = () => {\n",
                            "            VEGA_DEBUG[key] = version;\n",
                            "            return resolve(paths[lib]);\n",
                            "          };\n",
                            "          s.onerror = () => reject(`Error loading script: ${paths[lib]}`);\n",
                            "          s.src = paths[lib];\n",
                            "        });\n",
                            "    }\n",
                            "\n",
                            "    function showError(err) {\n",
                            "      outputDiv.innerHTML = `<div class=\"error\" style=\"color:red;\">${err}</div>`;\n",
                            "      throw err;\n",
                            "    }\n",
                            "\n",
                            "    function displayChart(vegaEmbed) {\n",
                            "      vegaEmbed(outputDiv, spec, embedOpt)\n",
                            "        .catch(err => showError(`Javascript Error: ${err.message}<br>This usually means there's a typo in your chart specification. See the javascript console for the full traceback.`));\n",
                            "    }\n",
                            "\n",
                            "    if(typeof define === \"function\" && define.amd) {\n",
                            "      requirejs.config({paths});\n",
                            "      require([\"vega-embed\"], displayChart, err => showError(`Error loading script: ${err.message}`));\n",
                            "    } else {\n",
                            "      maybeLoadScript(\"vega\", \"5\")\n",
                            "        .then(() => maybeLoadScript(\"vega-lite\", \"5.16.3\"))\n",
                            "        .then(() => maybeLoadScript(\"vega-embed\", \"6\"))\n",
                            "        .catch(showError)\n",
                            "        .then(() => displayChart(vegaEmbed));\n",
                            "    }\n",
                            "  })({\"config\": {\"view\": {\"continuousWidth\": 300, \"continuousHeight\": 300}, \"scale\": {\"bandPaddingInner\": 0.5}}, \"data\": {\"name\": \"data-93ff1acfb74276968abe2e2238fc47c7\"}, \"mark\": {\"type\": \"bar\"}, \"encoding\": {\"color\": {\"value\": \"orange\"}, \"x\": {\"field\": \"term_length\", \"title\": \"GIC Term\", \"type\": \"nominal\"}, \"y\": {\"axis\": {\"format\": \"$~s\"}, \"field\": \"interest\", \"title\": \"Interest Earned\", \"type\": \"quantitative\"}}, \"title\": {\"text\": [\"In 1 year, at an interest rate of 4.90%, you'll have earned $245.00 in interest.\", \"In 1 year, at an interest rate of 4.00%, you'll have earned $200.00 in interest.\"]}, \"width\": {\"step\": 200}, \"$schema\": \"https://vega.github.io/schema/vega-lite/v5.16.3.json\", \"datasets\": {\"data-93ff1acfb74276968abe2e2238fc47c7\": [{\"term_length\": \"1) 1 year\", \"interest\": 245.0}, {\"term_length\": \"2) 1 year\", \"interest\": 200.0}]}}, {\"mode\": \"vega-lite\"});\n",
                            "</script>"
                        ],
                        "text/plain": [
                            "alt.Chart(...)"
                        ]
                    },
                    "execution_count": 8,
                    "metadata": {},
                    "output_type": "execute_result"
                }
            ],
            "source": [
                "gic_plotting(5000, [1, 1], [None, 4.0])"
            ]
        },
        {
            "cell_type": "markdown",
            "metadata": {},
            "source": [
                "The chart shows that the interest from Bank A's GIC is actually higher than the friend's suggested investment. Seemingly, the “best thing” might not always be good! 🤔 Eva decides to go ahead and purchase the 3-year GIC from Bank A. Great job on the analysis Eva!!"
            ]
        },
        {
            "cell_type": "markdown",
            "metadata": {},
            "source": [
                "#### Aside\n",
                "Now for the most important math (outside of the scope of the `gic_calculator` package, but of dire personal importance to Eva) - at an average pizza price of &#36;20.00 for a large pizza, will Eva be able to survive the semester? Assume that 1 large pizza will last Eva 3 meals. At an interest accrual of &#36;624.32, Eva will be able to purchase 31 pizzas, which will last her a total of 93 meals. Assuming that Eva eats 3 nutritious pizza meals per day, she will only have enough money for 31 days of pizza! Oh no!! Eva sighs 😞 … I guess that she’ll have to get a job at Domino’s (the employee discount will come in very handy!). \n",
                "\n",
                "So go ahead, give it a try! Who knows, you might just save enough for tuition and have a little extra for a celebratory pizza party. 🍕 Happy saving!"
            ]
        },
        {
            "cell_type": "markdown",
            "metadata": {},
            "source": []
        }
    ],
    "metadata": {
        "kernelspec": {
            "display_name": "Python 3",
            "language": "python",
            "name": "python3"
        },
        "language_info": {
            "codemirror_mode": {
                "name": "ipython",
                "version": 3
            },
            "file_extension": ".py",
            "mimetype": "text/x-python",
            "name": "python",
            "nbconvert_exporter": "python",
            "pygments_lexer": "ipython3",
            "version": "3.9.18"
        }
    },
    "nbformat": 4,
    "nbformat_minor": 4
}
